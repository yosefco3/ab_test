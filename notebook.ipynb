{
 "cells": [
  {
   "cell_type": "markdown",
   "id": "9a9ada08-c9f0-466f-91a0-265fa539f9f5",
   "metadata": {},
   "source": [
    "# Which version of the website should you use?\n",
    "\n",
    "## 📖 Background\n",
    "You work for an early-stage startup in Germany. Your team has been working on a redesign of the landing page. The team believes a new design will increase the number of people who click through and join your site. \n",
    "\n",
    "They have been testing the changes for a few weeks and now they want to measure the impact of the change and need you to determine if the increase can be due to random chance or if it is statistically significant."
   ]
  },
  {
   "cell_type": "markdown",
   "id": "10dcc269-3659-4851-99cd-f1ffb7f818aa",
   "metadata": {
    "tags": []
   },
   "source": [
    "## 💾 The data\n",
    "The team assembled the following file:\n",
    "\n",
    "#### Redesign test data\n",
    "- \"treatment\" - \"yes\" if the user saw the new version of the landing page, no otherwise.\n",
    "- \"new_images\" - \"yes\" if the page used a new set of images, no otherwise.\n",
    "- \"converted\" - 1 if the user joined the site, 0 otherwise.\n",
    "\n",
    "The control group is those users with \"no\" in both columns: the old version with the old set of images."
   ]
  },
  {
   "cell_type": "code",
   "execution_count": 1,
   "id": "5b6d8934-0218-4102-b9c8-2139490227cc",
   "metadata": {},
   "outputs": [],
   "source": [
    "import math\n",
    "\n",
    "import pandas as pd\n",
    "import numpy as np\n",
    "import seaborn as sns\n",
    "import matplotlib.pyplot as plt\n",
    "\n",
    "import scipy.stats as stats\n",
    "import statsmodels.stats.api as sms\n",
    "from statsmodels.stats.proportion import proportions_ztest, proportion_confint\n",
    "from statsmodels.formula.api import ols\n",
    "import statsmodels.api as sm\n",
    "\n",
    "np.random.seed(42)"
   ]
  },
  {
   "cell_type": "code",
   "execution_count": 2,
   "id": "40251159-3eea-47f8-bfb4-09e38d5ced65",
   "metadata": {},
   "outputs": [
    {
     "data": {
      "text/html": [
       "<div>\n",
       "<style scoped>\n",
       "    .dataframe tbody tr th:only-of-type {\n",
       "        vertical-align: middle;\n",
       "    }\n",
       "\n",
       "    .dataframe tbody tr th {\n",
       "        vertical-align: top;\n",
       "    }\n",
       "\n",
       "    .dataframe thead th {\n",
       "        text-align: right;\n",
       "    }\n",
       "</style>\n",
       "<table border=\"1\" class=\"dataframe\">\n",
       "  <thead>\n",
       "    <tr style=\"text-align: right;\">\n",
       "      <th></th>\n",
       "      <th>treatment</th>\n",
       "      <th>new_images</th>\n",
       "      <th>converted</th>\n",
       "    </tr>\n",
       "  </thead>\n",
       "  <tbody>\n",
       "    <tr>\n",
       "      <th>0</th>\n",
       "      <td>yes</td>\n",
       "      <td>yes</td>\n",
       "      <td>0</td>\n",
       "    </tr>\n",
       "    <tr>\n",
       "      <th>1</th>\n",
       "      <td>yes</td>\n",
       "      <td>yes</td>\n",
       "      <td>0</td>\n",
       "    </tr>\n",
       "    <tr>\n",
       "      <th>2</th>\n",
       "      <td>yes</td>\n",
       "      <td>yes</td>\n",
       "      <td>0</td>\n",
       "    </tr>\n",
       "    <tr>\n",
       "      <th>3</th>\n",
       "      <td>yes</td>\n",
       "      <td>no</td>\n",
       "      <td>0</td>\n",
       "    </tr>\n",
       "    <tr>\n",
       "      <th>4</th>\n",
       "      <td>no</td>\n",
       "      <td>yes</td>\n",
       "      <td>0</td>\n",
       "    </tr>\n",
       "  </tbody>\n",
       "</table>\n",
       "</div>"
      ],
      "text/plain": [
       "  treatment new_images  converted\n",
       "0       yes        yes          0\n",
       "1       yes        yes          0\n",
       "2       yes        yes          0\n",
       "3       yes         no          0\n",
       "4        no        yes          0"
      ]
     },
     "execution_count": 2,
     "metadata": {},
     "output_type": "execute_result"
    }
   ],
   "source": [
    "df = pd.read_csv('./data/redesign.csv')\n",
    "df.head()"
   ]
  },
  {
   "cell_type": "markdown",
   "id": "54e0ae0c-ff96-443e-9ff3-718f1ab846e5",
   "metadata": {},
   "source": [
    "## 💪 Challenge\n",
    "Complete the following tasks:\n",
    "\n",
    "1. Analyze the conversion rates for each of the four groups: the new/old design of the landing page and the new/old pictures.\n",
    "2. Can the increases observed be explained by randomness? (Hint: Think A/B test)\n",
    "3. Which version of the website should they use?"
   ]
  },
  {
   "cell_type": "markdown",
   "id": "efda8e32-5c7e-48cc-8bd6-83ad3ba72f6e",
   "metadata": {},
   "source": [
    "## 🧑‍⚖️ Judging criteria\n",
    "\n",
    "We will randomly select ten winners from the correct submissions for this challenge.\n",
    "\n",
    "The winners will receive DataCamp merchandise."
   ]
  },
  {
   "cell_type": "markdown",
   "id": "7fa68a10-14d8-4db9-a473-9efdab8f2fbd",
   "metadata": {},
   "source": [
    "## ✅ Checklist before publishing\n",
    "- Rename your workspace to make it descriptive of your work. N.B. you should leave the notebook name as notebook.ipynb.\n",
    "- Remove redundant cells like the judging criteria, so the workbook is focused on your answers.\n",
    "- Check that all the cells run without error."
   ]
  },
  {
   "cell_type": "markdown",
   "id": "3bef7acb-5b00-4282-8c3e-1aa34bf4b7df",
   "metadata": {},
   "source": [
    "## EDA"
   ]
  },
  {
   "cell_type": "code",
   "execution_count": 3,
   "id": "4fd7953e-c61a-404b-8170-f8280225451b",
   "metadata": {},
   "outputs": [
    {
     "name": "stdout",
     "output_type": "stream",
     "text": [
      "<class 'pandas.core.frame.DataFrame'>\n",
      "RangeIndex: 40484 entries, 0 to 40483\n",
      "Data columns (total 3 columns):\n",
      " #   Column      Non-Null Count  Dtype \n",
      "---  ------      --------------  ----- \n",
      " 0   treatment   40484 non-null  object\n",
      " 1   new_images  40484 non-null  object\n",
      " 2   converted   40484 non-null  int64 \n",
      "dtypes: int64(1), object(2)\n",
      "memory usage: 949.0+ KB\n"
     ]
    }
   ],
   "source": [
    "df.info()"
   ]
  },
  {
   "cell_type": "markdown",
   "id": "ac52ba13-d8bd-4a0c-adbe-b1a7fbcda724",
   "metadata": {},
   "source": [
    "* there are not nulls, the types are o.k.\n",
    "* there is no place in such dataset to check duplicates ...."
   ]
  },
  {
   "cell_type": "code",
   "execution_count": 4,
   "id": "de9c0188-b0f3-4a5e-9981-3416b4f2f5bd",
   "metadata": {},
   "outputs": [
    {
     "data": {
      "image/png": "[encoded data removed]",
      "text/plain": [
       "<Figure size 432x288 with 1 Axes>"
      ]
     },
     "metadata": {
      "needs_background": "light"
     },
     "output_type": "display_data"
    }
   ],
   "source": [
    "sns.countplot(df['treatment']);"
   ]
  },
  {
   "cell_type": "code",
   "execution_count": 5,
   "id": "0ab692e5-fcf8-434f-90e2-1f613603875c",
   "metadata": {},
   "outputs": [
    {
     "data": {
      "image/png": "[encoded data removed]",
      "text/plain": [
       "<Figure size 432x288 with 1 Axes>"
      ]
     },
     "metadata": {
      "needs_background": "light"
     },
     "output_type": "display_data"
    }
   ],
   "source": [
    "sns.countplot(df['new_images']);"
   ]
  },
  {
   "cell_type": "markdown",
   "id": "4395c929-5d4e-47c6-b050-4189e02e0cf0",
   "metadata": {},
   "source": [
    "* the seperation seems O.K.!"
   ]
  },
  {
   "cell_type": "markdown",
   "id": "5ac745b7-0f89-4d46-bb8e-173562ec0351",
   "metadata": {
    "tags": []
   },
   "source": [
    "## Convertion rates:"
   ]
  },
  {
   "cell_type": "code",
   "execution_count": 6,
   "id": "e47cc7c1-def3-4988-a9ef-041e7dfa0588",
   "metadata": {},
   "outputs": [],
   "source": [
    "def calculate_convertion_rates(treatment,new_images):\n",
    "    relevant = df[(df['treatment']==treatment) & (df['new_images']==new_images)]\n",
    "    return {'conversion rate':np.round(relevant[\"converted\"].sum()/len(relevant),5), 'group size':len(relevant)}\n"
   ]
  },
  {
   "cell_type": "markdown",
   "id": "a2aa367e-6f52-44a2-936c-2529fe2c1d38",
   "metadata": {},
   "source": [
    "### group 1 - control group (no treatment, old set)"
   ]
  },
  {
   "cell_type": "code",
   "execution_count": 7,
   "id": "7cde62bc-7677-41e0-9a31-cef8ab61a8ba",
   "metadata": {},
   "outputs": [
    {
     "data": {
      "text/plain": [
       "{'conversion rate': 0.1071, 'group size': 10121}"
      ]
     },
     "execution_count": 7,
     "metadata": {},
     "output_type": "execute_result"
    }
   ],
   "source": [
    "calculate_convertion_rates('no','no')   "
   ]
  },
  {
   "cell_type": "markdown",
   "id": "147a734d-7616-49cc-ba18-d1722a5eef62",
   "metadata": {},
   "source": [
    "### group 2 - treatment, old set"
   ]
  },
  {
   "cell_type": "code",
   "execution_count": 8,
   "id": "c852a4bb-a5eb-46d1-b894-b804e90896bd",
   "metadata": {},
   "outputs": [
    {
     "data": {
      "text/plain": [
       "{'conversion rate': 0.12005, 'group size': 10121}"
      ]
     },
     "execution_count": 8,
     "metadata": {},
     "output_type": "execute_result"
    }
   ],
   "source": [
    "calculate_convertion_rates('yes','no')  "
   ]
  },
  {
   "cell_type": "markdown",
   "id": "3dcf2ed0-d0d0-4580-ab8e-ffa7b8061469",
   "metadata": {},
   "source": [
    "### group 3 - no treatment, new set"
   ]
  },
  {
   "cell_type": "code",
   "execution_count": 9,
   "id": "dcdb3b66-ce44-431f-8220-a4468f955836",
   "metadata": {},
   "outputs": [
    {
     "data": {
      "text/plain": [
       "{'conversion rate': 0.11254, 'group size': 10121}"
      ]
     },
     "execution_count": 9,
     "metadata": {},
     "output_type": "execute_result"
    }
   ],
   "source": [
    "calculate_convertion_rates('no','yes')  "
   ]
  },
  {
   "cell_type": "markdown",
   "id": "0a9ccfd4-2a04-4c54-823e-966102433cbd",
   "metadata": {},
   "source": [
    "### group 4 treatment, new set."
   ]
  },
  {
   "cell_type": "code",
   "execution_count": 10,
   "id": "dcf9c80c-1e88-4ee6-98ac-601f55632bec",
   "metadata": {},
   "outputs": [
    {
     "data": {
      "text/plain": [
       "{'conversion rate': 0.11372, 'group size': 10121}"
      ]
     },
     "execution_count": 10,
     "metadata": {},
     "output_type": "execute_result"
    }
   ],
   "source": [
    "calculate_convertion_rates('yes','yes')  "
   ]
  },
  {
   "cell_type": "markdown",
   "id": "44c7d081-4133-485c-96d2-8def4cd367c3",
   "metadata": {},
   "source": [
    "* we see the differnt convertion rates, we see too that the group sizes are equal."
   ]
  },
  {
   "cell_type": "markdown",
   "id": "1bc732db-a451-446e-ba81-6712a7916d9d",
   "metadata": {},
   "source": [
    "## A/B testing\n",
    "\n",
    "### * i have been helped <a href=\"https://towardsdatascience.com/ab-testing-with-python-e5964dd66143\"> by this article. </a>"
   ]
  },
  {
   "cell_type": "markdown",
   "id": "cbd8bc08-dcdf-4ee7-935e-7221370b2522",
   "metadata": {},
   "source": [
    "* we have here multivarient testing. if we will use regular alpha value (5%), because of the two variables, we will get higher ratio of False Posisitives (type 1 error). because we have two variables the new alpha acually will be: \n",
    "$$1 - (1-0.05)^2 = 0.097 $$\n",
    "* so we will use the \"Bonferroni correction\", that means we will divide alpha by the number of the variables. we have two variables, so we will use:\n",
    "$$ \\alpha = 0.05/2 = 0.025$$"
   ]
  },
  {
   "cell_type": "markdown",
   "id": "76946ef7-795f-4c87-843c-fc303db961e8",
   "metadata": {},
   "source": [
    "    Hₒ: p = pₒ\n",
    "    Hₐ: p ≠ pₒ   "
   ]
  },
  {
   "cell_type": "markdown",
   "id": "369b18a2-e780-40f6-b7b7-db65a0932878",
   "metadata": {},
   "source": [
    "where p and pₒ stand for the conversion rate of the new and old design, respectively. We’ll also set a confidence level of 97.5%:\n",
    "$$    α = 0.025$$"
   ]
  },
  {
   "cell_type": "markdown",
   "id": "a738171e-7703-480d-adec-c97e27e98d9a",
   "metadata": {},
   "source": [
    "So how many people should we have in each group?\n",
    "\n",
    "The sample size we need is estimated through something called Power analysis, and it depends on a few factors:\n",
    "\n",
    "    Power of the test (1 — β) — This represents the probability of finding a statistical difference between the groups in our test when a difference is actually present. This is usually set at 0.8 by convention (here’s more info on statistical power, if you are curious)\n",
    "    Alpha value (α) — The critical value we set earlier to 0.025\n",
    "    Effect size — How big of a difference we expect there to be between the conversion rates\n",
    "the current conversion rate is about 10.7% (the controll group)\n",
    "Since our team would be happy with a difference of 1%, we can use 11% and 12% to calculate the effect size we expect."
   ]
  },
  {
   "cell_type": "code",
   "execution_count": 11,
   "id": "2501abea-a985-4c3f-bf37-1f8881b6fb91",
   "metadata": {},
   "outputs": [
    {
     "name": "stdout",
     "output_type": "stream",
     "text": [
      "the sample size we need:  19339\n"
     ]
    }
   ],
   "source": [
    "effect_size = sms.proportion_effectsize(0.11, 0.12) \n",
    "required_n = sms.NormalIndPower().solve_power(\n",
    "    effect_size, \n",
    "    power=0.8, \n",
    "    alpha=0.025, \n",
    "    ratio=1\n",
    "    ) \n",
    "required_n = math.ceil(required_n)            \n",
    "\n",
    "print('the sample size we need: ',required_n)"
   ]
  },
  {
   "cell_type": "markdown",
   "id": "d20822c3-9322-4333-93ca-44864a57736c",
   "metadata": {},
   "source": [
    "* We’d need at least 19339 observations for each group - we have like 20K (see in the countplots above) so this is O.K.\n",
    "* we shouldn't resamle the data, because we have already equal groups."
   ]
  },
  {
   "cell_type": "markdown",
   "id": "240ec91d-5294-4f2e-8eed-d13d98eac49f",
   "metadata": {},
   "source": [
    "* Having set the power parameter to 0.8 in practice means that if there exists an actual difference in conversion rate between our designs, assuming the difference is the one we estimated (11% vs. 12%), we have about 80% chance to detect it as statistically significant in our test with the sample size we calculated.\n",
    "* about ratio=1 in sample size calculation - The documentation from statsmodels defines it as \"ratio of the number of observations in sample 2 relative to sample 1\". Essentially, you input the sample size for group 1 in the function and indicate sample size for group 2 as a ratio of group 1. In this case they are the same, hence ratio=1\n",
    "* we will use z-test and not t test because of this <a href=\"https://stats.stackexchange.com/questions/90893/why-use-a-z-test-rather-than-a-t-test-with-proportional-data\">answer</a>."
   ]
  },
  {
   "cell_type": "code",
   "execution_count": 12,
   "id": "74c0f2a5-3e7c-4181-84d5-e390e6092df9",
   "metadata": {},
   "outputs": [
    {
     "name": "stdout",
     "output_type": "stream",
     "text": [
      "z statistic: -2.24\n",
      "p-value: 0.025\n",
      "ci 95% for control group: [0.105, 0.115]\n",
      "ci 95% for treatment group: [0.112, 0.122]\n"
     ]
    }
   ],
   "source": [
    "control_results = df[df['treatment']=='no']['converted']\n",
    "treatment_results = df[df['treatment']=='yes']['converted']\n",
    "\n",
    "n_con = control_results.count()\n",
    "n_treat = treatment_results.count()\n",
    "successes = [control_results.sum(), treatment_results.sum()]\n",
    "nobs = [n_con, n_treat]\n",
    "\n",
    "z_stat, pval = proportions_ztest(successes, nobs=nobs)\n",
    "(lower_con, lower_treat), (upper_con, upper_treat) = proportion_confint(successes, nobs=nobs, alpha=0.025)\n",
    "\n",
    "print(f'z statistic: {z_stat:.2f}')\n",
    "print(f'p-value: {pval:.3f}')\n",
    "print(f'ci 95% for control group: [{lower_con:.3f}, {upper_con:.3f}]')\n",
    "print(f'ci 95% for treatment group: [{lower_treat:.3f}, {upper_treat:.3f}]')"
   ]
  },
  {
   "cell_type": "markdown",
   "id": "6edc87d9-7e23-488a-812e-427d41ab2bfb",
   "metadata": {},
   "source": [
    "* our p value is equal to our alpha, and there is a overlapping on the Ci's, so i think we should accept the null hypothesis, we didn't approved a significant difference between the combinations of treatment with new images or without.\n",
    "* but if we were checking only the treatment effect, no matter old or new images, we were rejecting the null hypothesis with alpha of 5%."
   ]
  },
  {
   "cell_type": "code",
   "execution_count": 13,
   "id": "e5605eda-32ed-4397-a4e1-5892bbfafc6a",
   "metadata": {},
   "outputs": [
    {
     "name": "stdout",
     "output_type": "stream",
     "text": [
      "z statistic: 0.14\n",
      "p-value: 0.888\n",
      "ci 95% for control group: [0.109, 0.119]\n",
      "ci 95% for treatment group: [0.108, 0.118]\n"
     ]
    }
   ],
   "source": [
    "\n",
    "control_results = df[df['new_images']=='no']['converted']\n",
    "treatment_results = df[df['new_images']=='yes']['converted']\n",
    "\n",
    "n_con = control_results.count()\n",
    "n_treat = treatment_results.count()\n",
    "successes = [control_results.sum(), treatment_results.sum()]\n",
    "nobs = [n_con, n_treat]\n",
    "\n",
    "z_stat, pval = proportions_ztest(successes, nobs=nobs)\n",
    "(lower_con, lower_treat), (upper_con, upper_treat) = proportion_confint(successes, nobs=nobs, alpha=0.025)\n",
    "\n",
    "print(f'z statistic: {z_stat:.2f}')\n",
    "print(f'p-value: {pval:.3f}')\n",
    "print(f'ci 95% for control group: [{lower_con:.3f}, {upper_con:.3f}]')\n",
    "print(f'ci 95% for treatment group: [{lower_treat:.3f}, {upper_treat:.3f}]')"
   ]
  },
  {
   "cell_type": "markdown",
   "id": "f14db253-70b1-4c53-9c20-ea3ceff4c83b",
   "metadata": {},
   "source": [
    "* our p value is high above alpha, we should accept the null hypothesis, we didn't approved a significant difference between them."
   ]
  },
  {
   "cell_type": "markdown",
   "id": "91a42d8d-3b24-45cf-a530-743f7a79efc3",
   "metadata": {},
   "source": [
    "### Anova testing"
   ]
  },
  {
   "cell_type": "markdown",
   "id": "6b950fb5-0866-4836-8733-72a6712b454e",
   "metadata": {},
   "source": [
    "* when we checked these two features independetly, we accepted the null hypothesis. but maybe we should check all the 4 groups because of combined effect ? so we will do anova tesing too."
   ]
  },
  {
   "cell_type": "code",
   "execution_count": 14,
   "id": "1b105d81-3022-477e-9e4d-deced9c9c518",
   "metadata": {},
   "outputs": [],
   "source": [
    "model = ols('converted~treatment+new_images+treatment*new_images',data= df).fit()"
   ]
  },
  {
   "cell_type": "code",
   "execution_count": 15,
   "id": "b3358c5e-df2b-4400-9725-6874ec812afd",
   "metadata": {},
   "outputs": [
    {
     "data": {
      "text/html": [
       "<div>\n",
       "<style scoped>\n",
       "    .dataframe tbody tr th:only-of-type {\n",
       "        vertical-align: middle;\n",
       "    }\n",
       "\n",
       "    .dataframe tbody tr th {\n",
       "        vertical-align: top;\n",
       "    }\n",
       "\n",
       "    .dataframe thead th {\n",
       "        text-align: right;\n",
       "    }\n",
       "</style>\n",
       "<table border=\"1\" class=\"dataframe\">\n",
       "  <thead>\n",
       "    <tr style=\"text-align: right;\">\n",
       "      <th></th>\n",
       "      <th>df</th>\n",
       "      <th>sum_sq</th>\n",
       "      <th>mean_sq</th>\n",
       "      <th>F</th>\n",
       "      <th>PR(&gt;F)</th>\n",
       "    </tr>\n",
       "  </thead>\n",
       "  <tbody>\n",
       "    <tr>\n",
       "      <th>treatment</th>\n",
       "      <td>1.0</td>\n",
       "      <td>0.505113</td>\n",
       "      <td>0.505113</td>\n",
       "      <td>5.026342</td>\n",
       "      <td>0.024970</td>\n",
       "    </tr>\n",
       "    <tr>\n",
       "      <th>new_images</th>\n",
       "      <td>1.0</td>\n",
       "      <td>0.002001</td>\n",
       "      <td>0.002001</td>\n",
       "      <td>0.019910</td>\n",
       "      <td>0.887790</td>\n",
       "    </tr>\n",
       "    <tr>\n",
       "      <th>treatment:new_images</th>\n",
       "      <td>1.0</td>\n",
       "      <td>0.349793</td>\n",
       "      <td>0.349793</td>\n",
       "      <td>3.480758</td>\n",
       "      <td>0.062094</td>\n",
       "    </tr>\n",
       "    <tr>\n",
       "      <th>Residual</th>\n",
       "      <td>40480.0</td>\n",
       "      <td>4067.964233</td>\n",
       "      <td>0.100493</td>\n",
       "      <td>NaN</td>\n",
       "      <td>NaN</td>\n",
       "    </tr>\n",
       "  </tbody>\n",
       "</table>\n",
       "</div>"
      ],
      "text/plain": [
       "                           df       sum_sq   mean_sq         F    PR(>F)\n",
       "treatment                 1.0     0.505113  0.505113  5.026342  0.024970\n",
       "new_images                1.0     0.002001  0.002001  0.019910  0.887790\n",
       "treatment:new_images      1.0     0.349793  0.349793  3.480758  0.062094\n",
       "Residual              40480.0  4067.964233  0.100493       NaN       NaN"
      ]
     },
     "execution_count": 15,
     "metadata": {},
     "output_type": "execute_result"
    }
   ],
   "source": [
    "variance_analysis = sm.stats.anova_lm(model,type=3)\n",
    "variance_analysis"
   ]
  },
  {
   "cell_type": "markdown",
   "id": "78e3a3b2-c0c8-4d3c-bb5f-bf1dd01fbe11",
   "metadata": {},
   "source": [
    "* about anova types - <a href=\"https://www.r-bloggers.com/2011/03/anova-%e2%80%93-type-iiiiii-ss-explained/\"> here</a>\n",
    "* the results of the p value (last column) are pretty same like the p values from the z tests. \n",
    "* the interaction between the two variables, isn't signinficant."
   ]
  },
  {
   "cell_type": "markdown",
   "id": "a6e5af11-1bb7-4de3-9370-fbb5776d3137",
   "metadata": {},
   "source": [
    "## Conclusions:"
   ]
  },
  {
   "cell_type": "markdown",
   "id": "01d424a6-4018-43f1-8c1e-0cb92e9845ec",
   "metadata": {},
   "source": [
    "1. Can the increases observed be explained by randomness? \n",
    "    * the answer is yes for the new images - its only random.\n",
    "    * for the treatment we could say that there is a significant effect with alpha of 5%, but not for the combinations with the images.\n",
    "3. Which version of the website should they use?\n",
    "    * we should use the treatment version, dont matter old or new images. "
   ]
  },
  {
   "cell_type": "code",
   "execution_count": null,
   "id": "77fecdfa-861e-4899-a680-1919fce1e959",
   "metadata": {},
   "outputs": [],
   "source": []
  }
 ],
 "metadata": {
  "kernelspec": {
   "display_name": "Python 3 (ipykernel)",
   "language": "python",
   "name": "python3"
  },
  "language_info": {
   "codemirror_mode": {
    "name": "ipython",
    "version": 3
   },
   "file_extension": ".py",
   "mimetype": "text/x-python",
   "name": "python",
   "nbconvert_exporter": "python",
   "pygments_lexer": "ipython3",
   "version": "3.8.10"
  }
 },
 "nbformat": 4,
 "nbformat_minor": 5
}
